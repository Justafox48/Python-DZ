{
 "cells": [
  {
   "cell_type": "markdown",
   "id": "e7ef2e5d",
   "metadata": {},
   "source": [
    "# Задание 1. \n",
    "Напишите функцию, извлекающую корень n-й степени из числа x. По умолчанию def будет извлекать квадратный корень"
   ]
  },
  {
   "cell_type": "code",
   "execution_count": 62,
   "id": "05d1c018",
   "metadata": {
    "scrolled": true
   },
   "outputs": [
    {
     "name": "stdout",
     "output_type": "stream",
     "text": [
      "5.0\n",
      "6\n"
     ]
    }
   ],
   "source": [
    "import math\n",
    "def sq(x, n = 2):\n",
    "    return x**(1/n)\n",
    "print(sq(25)) \n",
    "print(math.ceil(sq(216,3)))"
   ]
  },
  {
   "cell_type": "markdown",
   "id": "cfc21024",
   "metadata": {},
   "source": [
    "# Задание 2.\n",
    "Перепишите ваш код для проверки расширения из прошлого ДЗ в функцию которая принимает список расширений и имя файла"
   ]
  },
  {
   "cell_type": "code",
   "execution_count": 66,
   "id": "19ec0fad",
   "metadata": {},
   "outputs": [
    {
     "name": "stdout",
     "output_type": "stream",
     "text": [
      "Допустимое расширение\n"
     ]
    }
   ],
   "source": [
    "def ext(extensions, file):\n",
    "    fileSplit = file.split(\".\")\n",
    "    ext = fileSplit[len(fileSplit)-1]\n",
    "    if ext in extensions:\n",
    "        print(\"Допустимое расширение\")\n",
    "    else:\n",
    "        print(\"Недопустимое расширение\")\n",
    "ext(['png', 'jpg', 'jpeg', 'gif', 'svg'], 'Fedor.png')"
   ]
  },
  {
   "cell_type": "markdown",
   "id": "67e9a9d5",
   "metadata": {},
   "source": [
    "# Задание 3.\n",
    "Слейте воедино три словаря"
   ]
  },
  {
   "cell_type": "code",
   "execution_count": 30,
   "id": "07f9f73c",
   "metadata": {},
   "outputs": [
    {
     "data": {
      "text/plain": [
       "{1: 10, 2: 20, 3: 30, 4: 40, 5: 50, 6: 60}"
      ]
     },
     "execution_count": 30,
     "metadata": {},
     "output_type": "execute_result"
    }
   ],
   "source": [
    "dict_a = {1:10, 2:20}\n",
    "dict_b = {3:30, 4:40}\n",
    "dict_c = {5:50, 6:60}\n",
    "dict_a.update(dict_b)\n",
    "dict_a.update(dict_c)\n",
    "dict_a "
   ]
  },
  {
   "cell_type": "markdown",
   "id": "afc56b0d",
   "metadata": {},
   "source": [
    "# Задание 4.\n",
    "Напишите функцию которая будет складывать цифры внутри числа"
   ]
  },
  {
   "cell_type": "code",
   "execution_count": 33,
   "id": "8609ef10",
   "metadata": {},
   "outputs": [
    {
     "data": {
      "text/plain": [
       "12"
      ]
     },
     "execution_count": 33,
     "metadata": {},
     "output_type": "execute_result"
    }
   ],
   "source": [
    "def summa(n):\n",
    "    spisok = []\n",
    "    x = str(n)\n",
    "    for i in x:\n",
    "        i = int(i)\n",
    "        spisok.append(i)\n",
    "    c = 0\n",
    "    for i in spisok:\n",
    "        c += i\n",
    "    return c\n",
    "summa(255)"
   ]
  },
  {
   "cell_type": "markdown",
   "id": "13fb400e",
   "metadata": {},
   "source": [
    "# Задание 5.\n",
    "Нужно проверить, все ли числа в последовательности уникальны."
   ]
  },
  {
   "cell_type": "code",
   "execution_count": 39,
   "id": "9a2069c9",
   "metadata": {},
   "outputs": [
    {
     "name": "stdout",
     "output_type": "stream",
     "text": [
      "Числа уникальны\n"
     ]
    }
   ],
   "source": [
    "def uniq(numbers):\n",
    "    if type(numbers) != list:\n",
    "        print('Нужен список чисел')\n",
    "    else:\n",
    "        a = set(numbers)\n",
    "        b = list(a)\n",
    "        if numbers == b:\n",
    "            print('Числа уникальны')\n",
    "        else:\n",
    "            print('Числа повторяются')\n",
    "    \n",
    "uniq([1,4,5])"
   ]
  },
  {
   "cell_type": "markdown",
   "id": "66716608",
   "metadata": {},
   "source": [
    "# Задание 6\n",
    "Создать функцию, которая просто печатает все элементы заданного ей списка:"
   ]
  },
  {
   "cell_type": "code",
   "execution_count": 40,
   "id": "554c1aa0",
   "metadata": {},
   "outputs": [
    {
     "name": "stdout",
     "output_type": "stream",
     "text": [
      "Номер 1 --> я\n",
      "Номер 2 --> не\n",
      "Номер 3 --> в\n",
      "Номер 4 --> отпуск\n"
     ]
    }
   ],
   "source": [
    "def print_list(my_list):\n",
    "    for i in range(len(my_list)):\n",
    "        print(f'Номер {i+1} --> {my_list[i]}')\n",
    "\n",
    "print_list([\"я\", \"не\", \"в\", \"отпуск\"])\n"
   ]
  },
  {
   "cell_type": "markdown",
   "id": "08c75b04",
   "metadata": {},
   "source": [
    "Создать функцию, которая печатает каждый элемент словарика"
   ]
  },
  {
   "cell_type": "code",
   "execution_count": 42,
   "id": "bbbd7bfe",
   "metadata": {},
   "outputs": [
    {
     "name": "stdout",
     "output_type": "stream",
     "text": [
      "Ключ <<key1>> --> 2\n",
      "Ключ <<key3>> --> False\n",
      "Ключ <<Приветствие>> --> Hello\n"
     ]
    }
   ],
   "source": [
    "def print_dict(my_dict):\n",
    "    for key, value in my_dict.items():\n",
    "        print(f'Ключ <<{key}>> --> {value}')\n",
    "print_dict({\"key1\": 2, \"key3\": False, \"Приветствие\": \"Hello\"})"
   ]
  },
  {
   "cell_type": "markdown",
   "id": "6585a0f8",
   "metadata": {},
   "source": [
    "Сделать функцию, которая использует две уже написанные функции следующим образом:"
   ]
  },
  {
   "cell_type": "code",
   "execution_count": 44,
   "id": "5d74975e",
   "metadata": {},
   "outputs": [
    {
     "name": "stdout",
     "output_type": "stream",
     "text": [
      "Ключ <<key1>> --> 1\n",
      "Ключ <<key2>> --> [1, 2, 3, 4]:\n",
      "Номер 1 --> 1\n",
      "Номер 2 --> 2\n",
      "Номер 3 --> 3\n",
      "Номер 4 --> 4\n",
      "Ключ <<key3>> --> Hello\n",
      "Ключ <<key4>> --> {'ciao': 'Mondo', 'Привет': 'О дивный мир'}:\n",
      "Ключ <<ciao>> --> Mondo\n",
      "Ключ <<Привет>> --> О дивный мир\n"
     ]
    }
   ],
   "source": [
    "def print_overlord(mydict):\n",
    "    for key, value in mydict.items():\n",
    "        if type(value) == list:\n",
    "            print(f'Ключ <<{key}>> --> {value}:')\n",
    "            print_list(value)\n",
    "        elif type(value) == dict:\n",
    "            print(f'Ключ <<{key}>> --> {value}:')\n",
    "            print_dict(value)\n",
    "        else:\n",
    "            print(f'Ключ <<{key}>> --> {value}')\n",
    "\n",
    "print_overlord(dict(key1=1,\n",
    "            key2=[1, 2, 3, 4], \n",
    "            key3='Hello', \n",
    "            key4={\"ciao\":\"Mondo\", \"Привет\": \"О дивный мир\"}))"
   ]
  }
 ],
 "metadata": {
  "kernelspec": {
   "display_name": "Python 3 (ipykernel)",
   "language": "python",
   "name": "python3"
  },
  "language_info": {
   "codemirror_mode": {
    "name": "ipython",
    "version": 3
   },
   "file_extension": ".py",
   "mimetype": "text/x-python",
   "name": "python",
   "nbconvert_exporter": "python",
   "pygments_lexer": "ipython3",
   "version": "3.9.13"
  }
 },
 "nbformat": 4,
 "nbformat_minor": 5
}
