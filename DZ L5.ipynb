{
 "cells": [
  {
   "cell_type": "markdown",
   "id": "a5a10461",
   "metadata": {},
   "source": [
    "# Задание 1.\n",
    "Средний балл и список отстающих учеников"
   ]
  },
  {
   "cell_type": "code",
   "execution_count": 18,
   "id": "34771193",
   "metadata": {},
   "outputs": [
    {
     "name": "stdout",
     "output_type": "stream",
     "text": [
      "Средняя оценка =  3.2\n",
      "['Петров И.', 'Дмитриев Н.', 'Котов Д.', 'Бирюкова Н.', 'Данилов П.', 'Лемонов Ю.']\n"
     ]
    }
   ],
   "source": [
    "import os\n",
    "from statistics import mean\n",
    "\n",
    "path = os.path.expanduser(\"~/Desktop/spisok.txt\")\n",
    "\n",
    "mark = []\n",
    "students = []\n",
    "\n",
    "with open(path, 'r', encoding = \"utf-8\") as f:\n",
    "    for line in f:\n",
    "        student = line.split('.')\n",
    "        m = int(student[1])\n",
    "        marks.append(m)\n",
    "        if m < 4: \n",
    "            students.append(student[0]+'.')\n",
    "         \n",
    "\n",
    "avg_mark = round(mean(marks), 1)\n",
    "\n",
    "print('Средняя оценка = ',avg_mark)\n",
    "print(students)"
   ]
  },
  {
   "cell_type": "markdown",
   "id": "28fcaa58",
   "metadata": {},
   "source": [
    "# Задание 2.\n",
    "Посчитать количество определенных слов в файле"
   ]
  },
  {
   "cell_type": "code",
   "execution_count": 4,
   "id": "5335d892",
   "metadata": {},
   "outputs": [
    {
     "name": "stdout",
     "output_type": "stream",
     "text": [
      "Лекций: 2\n",
      "Практических: 3\n",
      "Лабораторных: 2\n"
     ]
    }
   ],
   "source": [
    "lec, pract, lab = 0, 0, 0 \n",
    "with open('Расписание.txt', 'r', encoding='utf-8') as f:\n",
    "    for line in f:\n",
    "        if 'лек' in line:\n",
    "            lec += 1\n",
    "        elif 'лаб' in line:\n",
    "            lab += 1\n",
    "        elif 'прак' in line:\n",
    "            pract += 1\n",
    "print('Лекций:', lec)\n",
    "print('Практических:', pract)\n",
    "print('Лабораторных:', lab)"
   ]
  },
  {
   "cell_type": "markdown",
   "id": "a0c57f77",
   "metadata": {},
   "source": [
    "# Задание 4\n",
    "Выведите список файлов в указанной директории. например где у вас лежат ваши тетради"
   ]
  },
  {
   "cell_type": "code",
   "execution_count": 11,
   "id": "c2aaacad",
   "metadata": {},
   "outputs": [
    {
     "name": "stdout",
     "output_type": "stream",
     "text": [
      "['.ipynb_checkpoints', 'grades.txt', 'spisok.txt', 'Untitled.ipynb', 'untitled.txt', 'Untitled1.ipynb', 'Untitled2.ipynb', 'Untitled3.ipynb', 'Расписание.txt']\n"
     ]
    }
   ],
   "source": [
    "from os import listdir\n",
    "print(listdir('C:\\\\Users\\\\79998\\\\МИСиС'))"
   ]
  },
  {
   "cell_type": "markdown",
   "id": "211de809",
   "metadata": {},
   "source": [
    "# Задание 5.\n",
    "Напишите программу, которая принимает текст и выводит два слова: наиболее часто встречающееся и самое длинное."
   ]
  },
  {
   "cell_type": "code",
   "execution_count": 13,
   "id": "4aa56d07",
   "metadata": {},
   "outputs": [
    {
     "name": "stdout",
     "output_type": "stream",
     "text": [
      "Наиболее часто встречающееся - \"и\", самое длинное - \"храброславленный\"\n"
     ]
    }
   ],
   "source": [
    "with open('Текст.txt', 'r', encoding='utf-8') as f:\n",
    "    lines = f.read().split('\\n')\n",
    "    stroka = ''.join(lines).lower()\n",
    "for p in '!,.—-':\n",
    "    if p in stroka:\n",
    "        stroka = stroka.replace(p, '')\n",
    "l = stroka.split(' ')\n",
    "from statistics import mode\n",
    "longest_word = max(l, key=len)\n",
    "print(f'Наиболее часто встречающееся - \"{mode(l)}\", самое длинное - \"{longest_word}\"')"
   ]
  }
 ],
 "metadata": {
  "kernelspec": {
   "display_name": "Python 3 (ipykernel)",
   "language": "python",
   "name": "python3"
  },
  "language_info": {
   "codemirror_mode": {
    "name": "ipython",
    "version": 3
   },
   "file_extension": ".py",
   "mimetype": "text/x-python",
   "name": "python",
   "nbconvert_exporter": "python",
   "pygments_lexer": "ipython3",
   "version": "3.9.13"
  }
 },
 "nbformat": 4,
 "nbformat_minor": 5
}
