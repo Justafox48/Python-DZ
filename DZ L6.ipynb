{
 "cells": [
  {
   "cell_type": "markdown",
   "id": "0cc2da19",
   "metadata": {},
   "source": [
    "# Задача 1. \n",
    "Напишите программу с классом Student, в котором есть три атрибута: name, groupNumber и age. По умолчанию name = Ivan, age = 18, groupNumber = 10A. Необходимо создать пять методов: getName, getAge, getGroupNumber, setNameAge, setGroupNumber. Метод getName нужен для получения данных об имени конкретного студента, метод getAge нужен для получения данных о возрасте конкретного студента, vетод setGroupNumberнужен для получения данных о номере группы конкретного студента. Метод SetNameAge позволяет изменить данные атрибутов установленных по умолчанию, метод setGroupNumber позволяет изменить номер группы установленный по умолчанию. В программе необходимо создать пять экземпляров класса Student, установить им разные имена, возраст и номер группы."
   ]
  },
  {
   "cell_type": "code",
   "execution_count": 3,
   "id": "92c1031f",
   "metadata": {},
   "outputs": [
    {
     "name": "stdout",
     "output_type": "stream",
     "text": [
      "10A Ivan 18\n",
      "1A Fedor 24\n",
      "5f Sasha 25\n"
     ]
    }
   ],
   "source": [
    "class Student:\n",
    "    def __init__(self, name='Ivan', age=18, groupNumber='10A'):\n",
    "        self.name=name\n",
    "        self.age=age\n",
    "        self.groupNumber=groupNumber\n",
    "         \n",
    "    def getName(self):\n",
    "        return self.name\n",
    "    \n",
    "    def getAge(self): \n",
    "        return self.age\n",
    "    \n",
    "    def getGroupNumber(self):\n",
    "        return self.groupNumber\n",
    "    \n",
    "    def setGroupNumber(self, GroupNumber):\n",
    "        self.groupNumber=GroupNumber \n",
    "        \n",
    "    def setNameAge(self, name, age):\n",
    "        self.name=name\n",
    "        self.age=age\n",
    "\n",
    "student1 = Student('Fedor', 24, '1A')\n",
    "student2 = Student('Kirill', 20, '2B')\n",
    "student3 = Student('Nikolay', 19, '3C')     \n",
    "student4 = Student('Sergey', 21, '4D')\n",
    "student5 = Student()\n",
    "\n",
    "print(student5.groupNumber, student5.name, student5.age)\n",
    "print(student1.groupNumber, student1.name, student1.age)\n",
    "student1.setGroupNumber('5f')\n",
    "student1.setNameAge('Sasha', 25)\n",
    "print(student1.groupNumber, student1.name, student1.age)"
   ]
  },
  {
   "cell_type": "markdown",
   "id": "5bff8ef0",
   "metadata": {},
   "source": [
    "# Задача 2. \n",
    "Напишите программу с классом Car. Создайте конструктор класса Car. Создайте атрибуты класса Car — color (цвет), type (тип), year (год). Напишите пять методов. Первый — запуск автомобиля, при его вызове выводится сообщение «Автомобиль заведен». Второй — отключение автомобиля — выводит сообщение «Автомобиль заглушен». Третий — присвоение автомобилю года выпуска. Четвертый метод — присвоение автомобилю типа. Пятый — присвоение автомобилю цвета."
   ]
  },
  {
   "cell_type": "code",
   "execution_count": 7,
   "id": "44a752d3",
   "metadata": {},
   "outputs": [
    {
     "name": "stdout",
     "output_type": "stream",
     "text": [
      "red sedan 2022\n",
      "green crossover 2010\n"
     ]
    }
   ],
   "source": [
    "class Car:\n",
    "    def __init__(self, color, type, year):\n",
    "        self.color=color\n",
    "        self.type=type\n",
    "        self.year=year\n",
    "        \n",
    "    def turn_on(self):\n",
    "        print('Автомобиль заведен')\n",
    "        \n",
    "    def turn_off(self):\n",
    "        print('Автомобиль заглушен')\n",
    "        \n",
    "    def setColor(self, color_new):\n",
    "        self.color=color_new\n",
    "        \n",
    "    def setYear(self, year_new):\n",
    "        self.year=year_new\n",
    "        \n",
    "    def setType(self, type_new):\n",
    "        self.type=type_new\n",
    "\n",
    "car_1=Car('red', 'sedan', 2022)\n",
    "print(car_1.color, car_1.type, car_1.year)\n",
    "car_1.setColor('green')\n",
    "car_1.setYear(2010)\n",
    "car_1.setType('crossover')\n",
    "print(car_1.color, car_1.type, car_1.year)\n"
   ]
  },
  {
   "cell_type": "markdown",
   "id": "88b24ee3",
   "metadata": {},
   "source": [
    "# Задача 3. \n",
    "Допишите функцию Nutrion"
   ]
  },
  {
   "cell_type": "code",
   "execution_count": 15,
   "id": "7d8bc79b",
   "metadata": {},
   "outputs": [
    {
     "name": "stdout",
     "output_type": "stream",
     "text": [
      "Nutrition p 3, c 6, f 9\n",
      "Nutrition p 6, c 62, f 18\n"
     ]
    }
   ],
   "source": [
    "class NutritionInfo:\n",
    "    def __init__(self, proteins, carbs, fats):\n",
    "        self.proteins = proteins\n",
    "        self.carbs = carbs\n",
    "        self.fats = fats\n",
    "    \n",
    "    def __add__(self, other):\n",
    "        return NutritionInfo(self.proteins + other.proteins, self.carbs + other.carbs, self.fats + other.fats)\n",
    "    \n",
    "    def __mul__(self, count):\n",
    "        return NutritionInfo(self.proteins * count, self.carbs * count, self.fats * count)\n",
    "    \n",
    "    def __str__(self):\n",
    "        return f\"Nutrition p {self.proteins}, c {self.carbs}, f {self.fats}\"\n",
    "        \n",
    "    def energy(self):\n",
    "        return int(self.fats * 9 + (self.carbs + self.proteins) * 4.2)\n",
    "    \n",
    "    \n",
    "egg = NutritionInfo(1, 2, 3)\n",
    "pastila = NutritionInfo(1, 2, 3)\n",
    "tvorog_9 = NutritionInfo(18, 3, 9)\n",
    "apple = NutritionInfo(0, 25, 0)\n",
    "\n",
    "breakfast_1 = apple + pastila\n",
    "breakfast_2 = egg * 3\n",
    "print(breakfast_2)\n",
    "\n",
    "breakfast_3 = apple*2 + egg*3 + pastila*3\n",
    "print(breakfast_3)"
   ]
  }
 ],
 "metadata": {
  "kernelspec": {
   "display_name": "Python 3 (ipykernel)",
   "language": "python",
   "name": "python3"
  },
  "language_info": {
   "codemirror_mode": {
    "name": "ipython",
    "version": 3
   },
   "file_extension": ".py",
   "mimetype": "text/x-python",
   "name": "python",
   "nbconvert_exporter": "python",
   "pygments_lexer": "ipython3",
   "version": "3.9.13"
  }
 },
 "nbformat": 4,
 "nbformat_minor": 5
}
