{
 "cells": [
  {
   "cell_type": "markdown",
   "id": "d427a2da",
   "metadata": {},
   "source": [
    "# Задание 1."
   ]
  },
  {
   "cell_type": "code",
   "execution_count": 13,
   "id": "2e8fdb6d",
   "metadata": {
    "scrolled": true
   },
   "outputs": [
    {
     "name": "stdout",
     "output_type": "stream",
     "text": [
      "m=1\n",
      "Январь\n"
     ]
    }
   ],
   "source": [
    "m = int(input('m='))\n",
    "a = ['Январь', 'Февраль', 'Март', 'Апрель', 'Май', 'Июнь', 'Июль', 'Август', 'Сентябрь', 'Октябрь', 'Ноябрь', 'Декабрь']\n",
    "print(a[m-1])"
   ]
  },
  {
   "cell_type": "markdown",
   "id": "5794f889",
   "metadata": {},
   "source": [
    "# Задание 2."
   ]
  },
  {
   "cell_type": "code",
   "execution_count": 21,
   "id": "9311450d",
   "metadata": {},
   "outputs": [
    {
     "name": "stdout",
     "output_type": "stream",
     "text": [
      "4\n"
     ]
    }
   ],
   "source": [
    "a = 600\n",
    "b = 1012\n",
    " \n",
    "while a != 0 and b != 0:\n",
    "    if a > b:\n",
    "        a = a % b\n",
    "    else:\n",
    "        b = b % a\n",
    " \n",
    "print(a + b)"
   ]
  },
  {
   "cell_type": "markdown",
   "id": "c2cb83c5",
   "metadata": {},
   "source": [
    "# Задание 3."
   ]
  },
  {
   "cell_type": "code",
   "execution_count": 34,
   "id": "b02cd0a3",
   "metadata": {},
   "outputs": [
    {
     "name": "stdout",
     "output_type": "stream",
     "text": [
      "Расширение файла:  .gif\n"
     ]
    }
   ],
   "source": [
    "split_tup = os.path.splitext('Моя диссертац.gif')\n",
    "\n",
    "file_name = split_tup[0]\n",
    "file_extension = split_tup[1]\n",
    "print(\"Расширение файла: \", file_extension)"
   ]
  },
  {
   "cell_type": "markdown",
   "id": "c3627fb5",
   "metadata": {},
   "source": [
    "# Задание 4."
   ]
  },
  {
   "cell_type": "code",
   "execution_count": 43,
   "id": "a8649f2e",
   "metadata": {},
   "outputs": [
    {
     "name": "stdout",
     "output_type": "stream",
     "text": [
      "Год не високосный\n"
     ]
    }
   ],
   "source": [
    "year = int(2022)\n",
    "if year % 4 != 0:\n",
    "    print('Год не високосный')\n",
    "elif year % 100 == 0:\n",
    "    if year % 400 == 0:\n",
    "        print('Год високосный')\n",
    "    else:\n",
    "        print('Год не високосный')\n",
    "else:\n",
    "    print('Год високосный')"
   ]
  }
 ],
 "metadata": {
  "kernelspec": {
   "display_name": "Python 3 (ipykernel)",
   "language": "python",
   "name": "python3"
  },
  "language_info": {
   "codemirror_mode": {
    "name": "ipython",
    "version": 3
   },
   "file_extension": ".py",
   "mimetype": "text/x-python",
   "name": "python",
   "nbconvert_exporter": "python",
   "pygments_lexer": "ipython3",
   "version": "3.9.13"
  }
 },
 "nbformat": 4,
 "nbformat_minor": 5
}
