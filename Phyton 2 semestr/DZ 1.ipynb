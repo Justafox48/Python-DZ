{
 "cells": [
  {
   "cell_type": "markdown",
   "id": "2e4f6a6d",
   "metadata": {},
   "source": [
    "# Задача 1."
   ]
  },
  {
   "cell_type": "code",
   "execution_count": 2,
   "id": "bdad6342",
   "metadata": {},
   "outputs": [
    {
     "name": "stdout",
     "output_type": "stream",
     "text": [
      "[Node with value 1]\n",
      "[Node with value 2]\n",
      "[Node with value 3]\n",
      "[Node with value Внезапно]\n",
      "[Node with value 5]\n",
      "---\n",
      "[Node with value 5]\n",
      "[Node with value Внезапно]\n",
      "[Node with value 3]\n",
      "[Node with value 2]\n",
      "[Node with value 1]\n"
     ]
    }
   ],
   "source": [
    "class Node(object):\n",
    "    def __init__(self, value=None, next_node=None):\n",
    "        self.value = value\n",
    "        self.next = next_node\n",
    "\n",
    "    def __str__(self):\n",
    "        return f\"[Node with value {self.value}]\"\n",
    "\n",
    "\n",
    "def print_linked_list(head):\n",
    "    cur = head\n",
    "    while cur is not None:\n",
    "        print(cur)\n",
    "        cur = cur.next\n",
    "        \n",
    "def reverse_linked_list(head, tail=None):\n",
    "    while head is not None:\n",
    "        head.next, tail, head = tail, head, head.next\n",
    "    return tail\n",
    "    \n",
    "\n",
    "h, a, b, c, d = Node(1), Node(2), Node(3), Node(\"Внезапно\"), Node(5)\n",
    "\n",
    "h.next = a\n",
    "a.next = b\n",
    "b.next = c\n",
    "c.next = d\n",
    "\n",
    "print_linked_list(h)\n",
    "h = reverse_linked_list(h)\n",
    "print(\"---\")\n",
    "print_linked_list(h)"
   ]
  },
  {
   "cell_type": "markdown",
   "id": "17553d61",
   "metadata": {},
   "source": [
    "# Задание 2"
   ]
  },
  {
   "cell_type": "code",
   "execution_count": 3,
   "id": "994fc82c",
   "metadata": {},
   "outputs": [
    {
     "name": "stdout",
     "output_type": "stream",
     "text": [
      "[Node with value 2]\n",
      "[Node with value 4]\n",
      "[Node with value 1]\n",
      "[Node with value 1]\n",
      "[Node with value 2]\n",
      "[Node with value 0]\n",
      "------\n",
      "[Node with value 0]\n",
      "[Node with value 1]\n",
      "[Node with value 1]\n",
      "[Node with value 2]\n",
      "[Node with value 2]\n",
      "[Node with value 4]\n"
     ]
    }
   ],
   "source": [
    "class Node(object):\n",
    "    def __init__(self, value=None, next_node=None):\n",
    "        self.value = value\n",
    "        self.next = next_node\n",
    "\n",
    "    def __str__(self):\n",
    "        return f\"[Node with value {self.value}]\"\n",
    "\n",
    "\n",
    "def print_linked_list(head):\n",
    "    cur = head\n",
    "    while cur is not None:\n",
    "        print(cur)\n",
    "        cur = cur.next\n",
    "        \n",
    "h, a, b, c, d, e = Node(2), Node(4), Node(1), Node(1), Node(2), Node(0)\n",
    "\n",
    "h.next = a\n",
    "a.next = b\n",
    "b.next = c\n",
    "c.next = d\n",
    "d.next = e\n",
    "\n",
    "print_linked_list(h)\n",
    "print('------')\n",
    "\n",
    "def sort_linked_list(head):\n",
    "    end = None\n",
    "    while end != head:\n",
    "        p = head\n",
    "        while p.next != end:\n",
    "            q = p.next\n",
    "            if p.value > q.value:\n",
    "                p.value, q.value = q.value, p.value\n",
    "            p = p.next\n",
    "        end = p\n",
    "\n",
    "sort_linked_list(h)\n",
    "print_linked_list(h)"
   ]
  },
  {
   "cell_type": "markdown",
   "id": "22fc5353",
   "metadata": {},
   "source": [
    "# Задание 3"
   ]
  },
  {
   "cell_type": "code",
   "execution_count": 10,
   "id": "6f8504f0",
   "metadata": {},
   "outputs": [],
   "source": [
    "# 3.1. Выясните, сколько в среднем выходи полный счёт по пятницам на ланч у курящих мужчин (датасет tips)"
   ]
  },
  {
   "cell_type": "code",
   "execution_count": 8,
   "id": "f0269b05",
   "metadata": {},
   "outputs": [
    {
     "name": "stdout",
     "output_type": "stream",
     "text": [
      "Cреднее значение полного счета ровно 11.386666666666668\n"
     ]
    }
   ],
   "source": [
    "import pandas as pd\n",
    "df = pd.read_csv(\"C:\\\\Users\\\\79998\\\\Desktop\\\\tips.csv\")\n",
    "le_masque = df[\"sex\"] == \"Male\"\n",
    "le_masque &= df[\"day\"] == \"Fri\"\n",
    "le_masque &= df[\"smoker\"] == \"Yes\"\n",
    "le_masque &= df[\"time\"] == \"Lunch\"\n",
    "print(f'Cреднее значение полного счета ровно {df[le_masque][\"total_bill\"].mean()}')"
   ]
  },
  {
   "cell_type": "code",
   "execution_count": 9,
   "id": "607021c5",
   "metadata": {},
   "outputs": [],
   "source": [
    "# 3.2.Загрузите iris и посмотрите разбросы по всем числовым значениям для всех трёх классов цветов (датасет iris)"
   ]
  },
  {
   "cell_type": "code",
   "execution_count": 12,
   "id": "bfe1b28a",
   "metadata": {},
   "outputs": [
    {
     "name": "stdout",
     "output_type": "stream",
     "text": [
      "Числовые значение по классу Iris-setosa варьируются от минимального значения:\n",
      "\n",
      " SepalLength            4.3\n",
      "SepalWidth             2.3\n",
      "PetalLength            1.0\n",
      "PetalWidth             0.1\n",
      "Name           Iris-setosa\n",
      "dtype: object \n",
      "\n",
      "до максимального:\n",
      "\n",
      " SepalLength            5.8\n",
      "SepalWidth             4.4\n",
      "PetalLength            1.9\n",
      "PetalWidth             0.6\n",
      "Name           Iris-setosa\n",
      "dtype: object \n",
      "-----------------------\n",
      "\n",
      "Числовые значение по классу Iris-versicolor варьируются от минимального значения:\n",
      "\n",
      " SepalLength                4.9\n",
      "SepalWidth                 2.0\n",
      "PetalLength                3.0\n",
      "PetalWidth                 1.0\n",
      "Name           Iris-versicolor\n",
      "dtype: object \n",
      "\n",
      "до максимального:\n",
      "\n",
      " SepalLength                7.0\n",
      "SepalWidth                 3.4\n",
      "PetalLength                5.1\n",
      "PetalWidth                 1.8\n",
      "Name           Iris-versicolor\n",
      "dtype: object \n",
      "-----------------------\n",
      "\n",
      "Числовые значение по классу Iris-virginica варьируются от минимального значения:\n",
      "\n",
      " SepalLength               4.9\n",
      "SepalWidth                2.2\n",
      "PetalLength               4.5\n",
      "PetalWidth                1.4\n",
      "Name           Iris-virginica\n",
      "dtype: object \n",
      "\n",
      "до максимального:\n",
      "\n",
      " SepalLength               7.9\n",
      "SepalWidth                3.8\n",
      "PetalLength               6.9\n",
      "PetalWidth                2.5\n",
      "Name           Iris-virginica\n",
      "dtype: object\n"
     ]
    }
   ],
   "source": [
    "import pandas as pd\n",
    "df = pd.read_csv(\"C:\\\\Users\\\\79998\\\\Desktop\\\\iris.csv\")\n",
    "le_masque_1 = df[\"Name\"] == \"Iris-setosa\"\n",
    "le_masque_2 = df[\"Name\"] == \"Iris-versicolor\"\n",
    "le_masque_3 = df[\"Name\"] == \"Iris-virginica\"\n",
    "print('Числовые значение по классу Iris-setosa варьируются от минимального значения:\\n\\n', df[le_masque_1].min(), \n",
    "      '\\n\\nдо максимального:\\n\\n', df[le_masque_1].max(), '\\n-----------------------\\n')\n",
    "print('Числовые значение по классу Iris-versicolor варьируются от минимального значения:\\n\\n', df[le_masque_2].min(), \n",
    "      '\\n\\nдо максимального:\\n\\n', df[le_masque_2].max(), '\\n-----------------------\\n')\n",
    "print('Числовые значение по классу Iris-virginica варьируются от минимального значения:\\n\\n', df[le_masque_3].min(), \n",
    "      '\\n\\nдо максимального:\\n\\n', df[le_masque_3].max())"
   ]
  },
  {
   "cell_type": "code",
   "execution_count": 13,
   "id": "01bdb958",
   "metadata": {},
   "outputs": [],
   "source": [
    "# 3.2. Задача про население"
   ]
  },
  {
   "cell_type": "code",
   "execution_count": 14,
   "id": "28b3a0cd",
   "metadata": {},
   "outputs": [
    {
     "data": {
      "text/html": [
       "<div>\n",
       "<style scoped>\n",
       "    .dataframe tbody tr th:only-of-type {\n",
       "        vertical-align: middle;\n",
       "    }\n",
       "\n",
       "    .dataframe tbody tr th {\n",
       "        vertical-align: top;\n",
       "    }\n",
       "\n",
       "    .dataframe thead th {\n",
       "        text-align: right;\n",
       "    }\n",
       "</style>\n",
       "<table border=\"1\" class=\"dataframe\">\n",
       "  <thead>\n",
       "    <tr style=\"text-align: right;\">\n",
       "      <th></th>\n",
       "      <th>страна</th>\n",
       "      <th>population</th>\n",
       "      <th>площадь</th>\n",
       "      <th>density</th>\n",
       "    </tr>\n",
       "  </thead>\n",
       "  <tbody>\n",
       "    <tr>\n",
       "      <th>0</th>\n",
       "      <td>Kazakhstan</td>\n",
       "      <td>17.04</td>\n",
       "      <td>2724902</td>\n",
       "      <td>0.000006</td>\n",
       "    </tr>\n",
       "    <tr>\n",
       "      <th>1</th>\n",
       "      <td>Russia</td>\n",
       "      <td>143.50</td>\n",
       "      <td>17125191</td>\n",
       "      <td>0.000008</td>\n",
       "    </tr>\n",
       "    <tr>\n",
       "      <th>2</th>\n",
       "      <td>Belarus</td>\n",
       "      <td>9.50</td>\n",
       "      <td>207600</td>\n",
       "      <td>0.000046</td>\n",
       "    </tr>\n",
       "    <tr>\n",
       "      <th>3</th>\n",
       "      <td>Ukraine</td>\n",
       "      <td>45.50</td>\n",
       "      <td>603628</td>\n",
       "      <td>0.000075</td>\n",
       "    </tr>\n",
       "  </tbody>\n",
       "</table>\n",
       "</div>"
      ],
      "text/plain": [
       "       страна  population   площадь   density\n",
       "0  Kazakhstan       17.04   2724902  0.000006\n",
       "1      Russia      143.50  17125191  0.000008\n",
       "2     Belarus        9.50    207600  0.000046\n",
       "3     Ukraine       45.50    603628  0.000075"
      ]
     },
     "execution_count": 14,
     "metadata": {},
     "output_type": "execute_result"
    }
   ],
   "source": [
    "import pandas as pd\n",
    "df = pd.DataFrame({\n",
    "     'country': ['Kazakhstan', 'Russia', 'Belarus', 'Ukraine'],\n",
    "     'population': [17.04, 143.5, 9.5, 45.5],\n",
    "     'square': [2724902, 17125191, 207600, 603628]\n",
    " })\n",
    "df['density'] = df.population/df.square\n",
    "df.rename(columns={'country': 'страна', 'square': 'площадь'}, inplace=True)\n",
    "df"
   ]
  }
 ],
 "metadata": {
  "kernelspec": {
   "display_name": "Python 3 (ipykernel)",
   "language": "python",
   "name": "python3"
  },
  "language_info": {
   "codemirror_mode": {
    "name": "ipython",
    "version": 3
   },
   "file_extension": ".py",
   "mimetype": "text/x-python",
   "name": "python",
   "nbconvert_exporter": "python",
   "pygments_lexer": "ipython3",
   "version": "3.9.13"
  }
 },
 "nbformat": 4,
 "nbformat_minor": 5
}
