{
 "cells": [
  {
   "cell_type": "code",
   "execution_count": 3,
   "id": "03e11fae",
   "metadata": {},
   "outputs": [
    {
     "name": "stdout",
     "output_type": "stream",
     "text": [
      "0:2:46:40\n"
     ]
    }
   ],
   "source": [
    "sec = 10000\n",
    " \n",
    "day = 86400\n",
    "hour = 3600\n",
    "minute = 60\n",
    "second = 1\n",
    " \n",
    "days = sec // day\n",
    "hours = (sec % day) // hour\n",
    "minutes = ((sec % day) % hour) // minute\n",
    "seconds = ((sec % day) % hour) % minute\n",
    "print(days, hours, minutes, seconds, sep=':')"
   ]
  },
  {
   "cell_type": "code",
   "execution_count": 15,
   "id": "899d573b",
   "metadata": {},
   "outputs": [
    {
     "name": "stdout",
     "output_type": "stream",
     "text": [
      "Введите число: 15\n",
      "Введите оператор: +\n",
      "Введите число: 15\n",
      "30\n"
     ]
    }
   ],
   "source": [
    "a = int(input(\"Введите число: \"))\n",
    "opr = input(\"Введите оператор: \")\n",
    "b = int(input(\"Введите число: \"))\n",
    "if (opr == '+'):\n",
    "    print(a+b)\n",
    "elif (opr == '-'):\n",
    "    print(a-b)\n",
    "elif (opr == '/'):\n",
    "    print(a/b)\n",
    "elif (opr == '*'):\n",
    "    print(a*b)\n",
    "else:\n",
    "    print(\"Некорректный оператор\")\n"
   ]
  },
  {
   "cell_type": "code",
   "execution_count": 17,
   "id": "a3542dcf",
   "metadata": {
    "scrolled": true
   },
   "outputs": [
    {
     "name": "stdout",
     "output_type": "stream",
     "text": [
      "str1=10\n",
      "str2=20\n",
      "10 20\n",
      "10$20\n"
     ]
    }
   ],
   "source": [
    "str1 = input(\"str1=\")\n",
    "str2 = input(\"str2=\")\n",
    "print(f\"{str1} {str2}\")\n",
    "print(str1, str2, sep=\"$\")"
   ]
  },
  {
   "cell_type": "code",
   "execution_count": 18,
   "id": "15f6d9cc",
   "metadata": {},
   "outputs": [
    {
     "name": "stdout",
     "output_type": "stream",
     "text": [
      "Введите имя: Корней\n",
      "Введите возраст: 24\n",
      "С днем рождения Корней!)\n",
      "С днем рождения Корней!)\n",
      "С днем рождения Корней!)\n",
      "С днем рождения Корней!)\n",
      "С днем рождения Корней!)\n",
      "С днем рождения Корней!)\n",
      "С днем рождения Корней!)\n",
      "С днем рождения Корней!)\n",
      "С днем рождения Корней!)\n",
      "С днем рождения Корней!)\n",
      "С днем рождения Корней!)\n",
      "С днем рождения Корней!)\n",
      "С днем рождения Корней!)\n",
      "С днем рождения Корней!)\n",
      "С днем рождения Корней!)\n",
      "С днем рождения Корней!)\n",
      "С днем рождения Корней!)\n",
      "С днем рождения Корней!)\n",
      "С днем рождения Корней!)\n",
      "С днем рождения Корней!)\n",
      "С днем рождения Корней!)\n",
      "С днем рождения Корней!)\n",
      "С днем рождения Корней!)\n",
      "С днем рождения Корней!)\n"
     ]
    }
   ],
   "source": [
    "name = input(\"Введите имя: \")\n",
    "age = int(input(\"Введите возраст: \"))\n",
    "for i in range(age):\n",
    "    print(f\"С днем рождения {name}!)\")"
   ]
  },
  {
   "cell_type": "code",
   "execution_count": null,
   "id": "1d676f4f",
   "metadata": {},
   "outputs": [],
   "source": []
  }
 ],
 "metadata": {
  "kernelspec": {
   "display_name": "Python 3 (ipykernel)",
   "language": "python",
   "name": "python3"
  },
  "language_info": {
   "codemirror_mode": {
    "name": "ipython",
    "version": 3
   },
   "file_extension": ".py",
   "mimetype": "text/x-python",
   "name": "python",
   "nbconvert_exporter": "python",
   "pygments_lexer": "ipython3",
   "version": "3.9.13"
  }
 },
 "nbformat": 4,
 "nbformat_minor": 5
}
